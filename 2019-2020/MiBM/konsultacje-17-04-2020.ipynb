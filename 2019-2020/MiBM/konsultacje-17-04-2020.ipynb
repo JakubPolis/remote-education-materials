{
 "nbformat": 4,
 "nbformat_minor": 2,
 "metadata": {
  "language_info": {
   "name": "python",
   "codemirror_mode": {
    "name": "ipython",
    "version": 3
   },
   "version": "2.7.17-final"
  },
  "orig_nbformat": 2,
  "file_extension": ".py",
  "mimetype": "text/x-python",
  "name": "python",
  "npconvert_exporter": "python",
  "pygments_lexer": "ipython3",
  "version": 3,
  "kernelspec": {
   "name": "python37564bitbaseconda642d0f92d97b4822afed344c78fe3c9a",
   "display_name": "Python 3.7.5 64-bit ('base': conda)"
  }
 },
 "cells": [
  {
   "cell_type": "markdown",
   "metadata": {},
   "source": [
    "<style>\n",
    "  p {\n",
    "    font-size: 30px;\n",
    "  }\n",
    "\n",
    "  p:hover {\n",
    "    color: hsl(180, 100%, 60%);\n",
    "  }\n",
    "\n",
    "  h1 {\n",
    "    font-size: 60px;\n",
    "    color: hsl(210, 100%, 50%);\n",
    "    background-color: hsl(0, 0%, 20%);\n",
    "    padding: 10px;\n",
    "  }\n",
    "\n",
    "  h2 {\n",
    "    font-size: 50px;\n",
    "    color: hsl(270, 100%, 50%);\n",
    "    background-color: hsl(0, 0%, 20%);\n",
    "    padding: 10px;\n",
    "  }\n",
    "\n",
    "  h3 {\n",
    "    font-size: 40px;\n",
    "    color: hsl(60, 100%, 50%);\n",
    "    background-color: hsl(0, 0%, 20%);\n",
    "    padding: 10px;\n",
    "  }\n",
    "</style>\n",
    "\n",
    "\n",
    "# Konsultacje\n",
    "## RMT MiBM rok: 1, stopień: 1\n",
    "### 17.04.2020"
   ]
  },
  {
   "cell_type": "markdown",
   "metadata": {},
   "source": [
    "**Zad** Niech $A = (0, 0)$, $B = (2,0)$, $C = (2,1)$. Oblicz długość wysokości trójkąta $ABC$ opuszczonej z wierchołka $C$.\n",
    "\n",
    "Wiemy, że $P_{ABC} = \\frac{1}{2} \\cdot |AB| \\cdot h_C $.\n",
    "\n",
    "$\\overrightarrow{AB} = [2 - 0, 0 - 0] = [2, 0]$\n",
    "\n",
    "$(((\\forall_{a \\in \\mathbb{R}} \\sqrt{a \\cdot a} = |a|)))$\n",
    "\n",
    "$|AB| = \\|\\overrightarrow{AB}\\| = \\sqrt{\\overrightarrow{AB} \\circ \\overrightarrow{AB}} = \\sqrt{ 2 \\cdot 2 + 0 \\cdot 0 } = 2$\n",
    "\n",
    "$\\overrightarrow{AC} = [2 - 0, 1 - 0] = [2, 1]$\n",
    "\n",
    "$\n",
    "P_{ABC} = \\frac{1}{2}\\cdot\\mathrm{abs}( \n",
    "\\begin{vmatrix}\n",
    "    2 & 0\\\\\n",
    "    2 & 1\n",
    "\\end{vmatrix}\n",
    "$\n",
    "$)=\\frac{1}{2}\\cdot |2 \\cdot 1 - 1 \\cdot 0 | = 1$\n",
    "\n",
    "$h_C = 2 \\cdot \\frac{P_{ABC}}{|AB|} = 1$\n",
    "\n",
    "**Odp** Szukana wysokość to $1$."
   ]
  },
  {
   "cell_type": "markdown",
   "metadata": {},
   "source": [
    "$V_{ABCD} = ?$\n",
    "\n",
    "$P_{ACD} = ?$"
   ]
  },
  {
   "cell_type": "markdown",
   "metadata": {},
   "source": [
    "**Zad** Niech $A = (2,1,3)$, $\\mathbf{v} = [3,0,1]$, $\\mathbf{w} = [-1,2,4]$. Obliczyć pole powierzchni równoległoboku rozpiętego przez wektory $\\mathbf{v}$ i $\\mathbf{w}$ w punkcie $A$.\n",
    "\n",
    "$P_{Avw} = \\| \\mathbf{v} \\times \\mathbf{w} \\|$\n",
    "\n",
    "$((( \\hat{i} = [1, 0, 0]$ $\\hat{j} = [0, 1, 0]$ $\\hat{k} = [0, 0, 1] )))$\n",
    "\n",
    "$\\mathbf{u} = \\mathbf{v} \\times \\mathbf{w} =$\n",
    "$\n",
    "\\begin{vmatrix}\n",
    "    \\hat{i} & \\hat{j} & \\hat{k}\\\\\n",
    "    3 & 0 & 1\\\\\n",
    "    -1 & 2 & 4\n",
    "\\end{vmatrix}\n",
    "$\n",
    "$=\\hat{i} \\begin{vmatrix} 0 & 1\\\\ 2 & 4\\end{vmatrix} - \\hat{j} \\begin{vmatrix} 3 & 1\\\\ -1 & 4\\end{vmatrix} + \\hat{k} \\begin{vmatrix} 3 & 0\\\\ -1 & 2\\end{vmatrix}$\n",
    "$= -2\\hat{i} - 13\\hat{j} + 6\\hat{k} = [-2, -13, 6]$\n",
    "\n",
    "$\\|\\mathbf{u}\\| = \\sqrt{\\mathbf{u}\\circ\\mathbf{u}} = \\sqrt{ (-2)\\cdot(-2) + (-13)\\cdot(-13) + 6\\cdot 6 } = \\sqrt{209}$\n",
    "\n",
    "**Odp** Szukane pole powierzchni to $\\sqrt{209}$."
   ]
  },
  {
   "cell_type": "code",
   "execution_count": 7,
   "metadata": {},
   "outputs": [
    {
     "output_type": "stream",
     "name": "stdout",
     "text": "[3 0 1]\n[-1  2  4]\n[ -2 -13   6]\n209\n14.45683229480096\n14.45683229480096\n"
    }
   ],
   "source": [
    "import numpy\n",
    "\n",
    "v = numpy.array([3,0,1])\n",
    "print(v)\n",
    "w = numpy.array([-1,2,4])\n",
    "print(w)\n",
    "\n",
    "u = numpy.cross(v,w)\n",
    "print(u)\n",
    "\n",
    "print(numpy.dot(u,u))\n",
    "print(numpy.sqrt(numpy.dot(u,u)))\n",
    "print(numpy.linalg.norm(u))"
   ]
  },
  {
   "cell_type": "markdown",
   "metadata": {},
   "source": [
    "**Zad** Niech $B = (-100, 11, 99$), $\\mathbf{u} = [1, 1, 1]$, $\\mathbf{v} = [1, 0, 1]$, $\\mathbf{w} = [-2, 0, 1]$. Obliczyć objętość równoległościanu rozpiętego przez wektory $\\mathbf{u}, \\mathbf{v}, \\mathbf{w}$ w punkcie $B$.\n",
    "\n",
    "$V_{B\\mathbf{u}\\mathbf{v}\\mathbf{w}} = |\\mathbf{u} \\circ (\\mathbf{v} \\times \\mathbf{w})| = |(\\mathbf{u} \\times \\mathbf{v}) \\circ \\mathbf{w}|=abs($\n",
    "$\n",
    "\\begin{vmatrix}\n",
    "    1 & (1) & 1\\\\\n",
    "    1 & (0) & 1\\\\\n",
    "    -2 & (0) & 1\n",
    "\\end{vmatrix}\n",
    "$\n",
    "$)= abs( (-1)^{1+2} \\cdot 1 \\cdot \\begin{vmatrix} 1 & 1\\\\ -2 & 1 \\end{vmatrix} )$\n",
    "\n",
    "$=|(-1)\\cdot 1 \\cdot 3| = |-3| = 3$\n",
    "\n",
    "**Odp** Szukana objętość to 3."
   ]
  },
  {
   "cell_type": "code",
   "execution_count": 6,
   "metadata": {},
   "outputs": [
    {
     "output_type": "stream",
     "name": "stdout",
     "text": "[1 1 1]\n[1 0 1]\n[-2  0  1]\n[[ 1  1  1]\n [ 1  0  1]\n [-2  0  1]]\n\n-3\n-3\n-2.9999999999999996\n"
    }
   ],
   "source": [
    "u = numpy.array([1,1,1])\n",
    "print(u)\n",
    "v = numpy.array([1,0,1])\n",
    "print(v)\n",
    "w = numpy.array([-2,0,1])\n",
    "print(w)\n",
    "\n",
    "M = numpy.array([u,v,w])\n",
    "print(M)\n",
    "\n",
    "print()\n",
    "\n",
    "print(numpy.dot(u,numpy.cross(v,w)))\n",
    "print(numpy.dot(numpy.cross(u,v),w))\n",
    "print(numpy.linalg.det(M))"
   ]
  },
  {
   "cell_type": "markdown",
   "metadata": {},
   "source": [
    "$\\| \\perp \\parallel \\hat{i} [ \\{ \\cdot \\circ \\times \\forall \\exists$"
   ]
  }
 ]
}