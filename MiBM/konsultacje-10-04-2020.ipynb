{
 "nbformat": 4,
 "nbformat_minor": 2,
 "metadata": {
  "language_info": {
   "name": "python",
   "codemirror_mode": {
    "name": "ipython",
    "version": 3
   }
  },
  "orig_nbformat": 2,
  "file_extension": ".py",
  "mimetype": "text/x-python",
  "name": "python",
  "npconvert_exporter": "python",
  "pygments_lexer": "ipython3",
  "version": 3
 },
 "cells": [
  {
   "cell_type": "markdown",
   "metadata": {},
   "source": [
    "<style>\n",
    "  p {\n",
    "    font-size: 35px;\n",
    "  }\n",
    "\n",
    "  p:hover {\n",
    "    color: hsl(180, 100%, 60%);\n",
    "  }\n",
    "\n",
    "  h1 {\n",
    "    font-size: 60px;\n",
    "    color: hsl(210, 100%, 50%);\n",
    "    background-color: hsl(0, 0%, 20%);\n",
    "    padding: 10px;\n",
    "  }\n",
    "\n",
    "  h2 {\n",
    "    font-size: 50px;\n",
    "    color: hsl(270, 100%, 50%);\n",
    "    background-color: hsl(0, 0%, 20%);\n",
    "    padding: 10px;\n",
    "  }\n",
    "\n",
    "  h3 {\n",
    "    font-size: 40px;\n",
    "    color: hsl(60, 100%, 50%);\n",
    "    background-color: hsl(0, 0%, 20%);\n",
    "    padding: 10px;\n",
    "  }\n",
    "</style>\n",
    "\n",
    "\n",
    "# Konsultacje\n",
    "## RMT MiBM rok: 1, stopień: 1\n",
    "### 10.04.2020"
   ]
  },
  {
   "cell_type": "markdown",
   "metadata": {},
   "source": [
    "$e^{\\mathrm{i}\\pi} + 1 = 0$\n",
    "\n",
    "$\n",
    "\\begin{bmatrix}\n",
    "    1 & 2 & 3\\\\\n",
    "    2 & -4 & 7\\\\\n",
    "    0 & 0 & 1\n",
    "\\end{bmatrix}\n",
    "\\overset{w_2 - 7 w_3 \\\\ w_1 - 3 w_3}{\\to}\n",
    "\\begin{bmatrix}\n",
    "    1 & 2 & 0\\\\\n",
    "    2 & -4 & 0\\\\\n",
    "    0 & 0 & 1\n",
    "\\end{bmatrix}\n",
    "$"
   ]
  }
 ]
}