{
 "nbformat": 4,
 "nbformat_minor": 2,
 "metadata": {
  "language_info": {
   "name": "python",
   "codemirror_mode": {
    "name": "ipython",
    "version": 3
   }
  },
  "orig_nbformat": 2,
  "file_extension": ".py",
  "mimetype": "text/x-python",
  "name": "python",
  "npconvert_exporter": "python",
  "pygments_lexer": "ipython3",
  "version": 3
 },
 "cells": [
  {
   "cell_type": "markdown",
   "metadata": {},
   "source": [
    "<style>\n",
    "    p {\n",
    "  font-size: 35px;\n",
    "}\n",
    "\n",
    "h1 {\n",
    "  font-size: 60px;\n",
    "}\n",
    "\n",
    "h2 {\n",
    "  font-size: 50px;\n",
    "}\n",
    "\n",
    "h3 {\n",
    "  font-size: 40px;\n",
    "}\n",
    "</style>\n",
    "\n",
    "\n",
    "# Konsultacje\n",
    "## RMT MiBM rok: 1 stopień: 1\n",
    "### 10.04.2020"
   ]
  },
  {
   "cell_type": "markdown",
   "metadata": {},
   "source": [
    "$e^{\\mathrm{i}\\pi} - 1 = 0$\n"
   ]
  }
 ]
}