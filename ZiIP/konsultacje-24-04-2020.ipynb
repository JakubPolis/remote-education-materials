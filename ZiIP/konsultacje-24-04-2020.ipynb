{
 "cells": [
  {
   "cell_type": "markdown",
   "metadata": {},
   "source": [
    "<style>\n",
    "  p {\n",
    "    font-size: 30px;\n",
    "  }\n",
    "\n",
    "  p:hover {\n",
    "    color: hsl(180, 100%, 60%);\n",
    "  }\n",
    "\n",
    "  h1 {\n",
    "    font-size: 60px;\n",
    "    color: hsl(210, 100%, 50%);\n",
    "    background-color: hsl(0, 0%, 20%);\n",
    "    padding: 10px;\n",
    "  }\n",
    "\n",
    "  h2 {\n",
    "    font-size: 50px;\n",
    "    color: hsl(270, 100%, 50%);\n",
    "    background-color: hsl(0, 0%, 20%);\n",
    "    padding: 10px;\n",
    "  }\n",
    "\n",
    "  h3 {\n",
    "    font-size: 40px;\n",
    "    color: hsl(60, 100%, 50%);\n",
    "    background-color: hsl(0, 0%, 20%);\n",
    "    padding: 10px;\n",
    "  }\n",
    "</style>\n",
    "\n",
    "\n",
    "# Konsultacje\n",
    "## RMT ZiIP rok: 1, stopień: 1\n",
    "### 24.04.2020"
   ]
  },
  {
   "cell_type": "markdown",
   "metadata": {},
   "source": [
    "**Zad** Obliczyć $\\iint\\limits_{D} (x+y)\\mathrm{d}x\\mathrm{d}y$, gdzie $D$ - obszar ograniczony krzywymi $x=0$, $y=0$, $x+y=3$.\n",
    "\n",
    "$D = \\{ (x,y) \\in \\mathbb{R}^2 \\colon \\mbox{ } 0 \\le y \\le 3 - x, \\mbox{ } 0 \\le x \\le 3 \\}$\n",
    "\n",
    "$D = \\{ (x,y) \\in \\mathbb{R}^2 \\colon \\mbox{ } 0 \\le x \\le 3 - y, \\mbox{ } 0 \\le y \\le 3 \\}$\n",
    "\n",
    "$\n",
    "    \\iint\\limits_{D} (x+y)\\mathrm{d}x\\mathrm{d}y = \\int\\limits_{0}^{3} \\mathrm{d}y \\int\\limits_{0}^{3 - y} (x+y) \\mathrm{d}x\n",
    "    = \\int\\limits_{0}^{3} (\\frac{x^2}{2} + xy) |_{x = 0}^{3 - y} \\mathrm{d}y\n",
    "    = \\int\\limits_{0}^{3} \\left(\\frac{(3 - y)^2}{2} + (3 - y)y \\right) - \\left(\\frac{0^2}{2} + 0\\cdot y \\right) \\mathrm{d}y =\n",
    "$\n",
    "\n",
    "$\n",
    "    \\int\\limits_{0}^{3} (3 - y)\\left(\\frac{3 - y}{2} + y \\right) \\mathrm{d}y =\n",
    "    \\frac{1}{2} \\int\\limits_{0}^{3} (3 - y)(3 + y) \\mathrm{d}y =\n",
    "    \\frac{1}{2} \\int\\limits_{0}^{3} (9 - y^2) \\mathrm{d}y =\n",
    "    \\frac{1}{2} (9y - \\frac{y^3}{3}) |_{0}^{3}=\n",
    "    \\frac{1}{2} (9\\cdot 3 - \\frac{27}{3}) - 0=\n",
    "$\n",
    "\n",
    "$\n",
    "    9.\n",
    "$\n",
    "\n",
    "**Odp** Szukana całka podwójna wynosi 9."
   ]
  },
  {
   "cell_type": "markdown",
   "metadata": {},
   "source": [
    "$\n",
    "    \\mathrm{dom}f = \\mathbb{R}^2\n",
    "$\n",
    "\n",
    "$\n",
    "    g(x, y) = \\frac{1}{x\\cdot y}\n",
    "$\n",
    "\n",
    "$ ( x\\cdot y \\not= 0$ $\\Leftrightarrow$ $( x \\not=0 $ $\\wedge$ $ y \\not=0) )$\n",
    "\n",
    "$ \\mathrm{dom}g = \\{ (x, y) \\in \\mathbb{R}^2 \\colon x \\not=0 \\wedge y\\not=0 \\}$\n",
    "\n",
    "$\n",
    "    \\begin{bmatrix}\n",
    "        1 & 2\\\\\n",
    "        3 & 4\n",
    "    \\end{bmatrix}\n",
    "$\n",
    "\n",
    "$\n",
    "    \\begin{vmatrix}\n",
    "        1 & 2\\\\\n",
    "        3 & 4\n",
    "    \\end{vmatrix}\n",
    "    = 1 \\cdot 4 - 3 \\cdot 2 = -2\n",
    "$\n",
    "\n",
    "Funkcja $f$, NIE $f(x, y)$\n",
    "\n",
    "Jeśli ekstremum w $P$, to $\\frac{\\partial^2 f}{\\partial x^2} = \\frac{\\partial^2 f}{\\partial y^2}$\n",
    "\n",
    "$\\partial$\n",
    "\n",
    "$\\mathrm{d}$"
   ]
  },
  {
   "cell_type": "code",
   "execution_count": 1,
   "metadata": {},
   "outputs": [
    {
     "output_type": "stream",
     "name": "stdout",
     "text": "(15+26j)\n"
    }
   ],
   "source": [
    "print((2+7j)*(4-1j))"
   ]
  },
  {
   "cell_type": "markdown",
   "metadata": {},
   "source": [
    "$ [ 1, 4, 5, 7, 1 ] $\n",
    "\n",
    "$ \\frac{1 + 4 + 5 + 7 + 1}{5} = \\frac{18}{5} $\n",
    "\n",
    "$ w = [ 5, 7, 1, 2, 2 ] $\n",
    "\n",
    "$ \\frac{5\\cdot 1 + 7\\cdot4 + 1\\cdot5 + 2\\cdot7 + 2\\cdot1}{5+7+1+2+2} = \\ldots$"
   ]
  }
 ],
 "metadata": {
  "language_info": {
   "name": "python",
   "codemirror_mode": {
    "name": "ipython",
    "version": 3
   },
   "version": "3.7.5-final"
  },
  "orig_nbformat": 2,
  "file_extension": ".py",
  "mimetype": "text/x-python",
  "name": "python",
  "npconvert_exporter": "python",
  "pygments_lexer": "ipython3",
  "version": 3,
  "kernelspec": {
   "name": "python37564bitbaseconda642d0f92d97b4822afed344c78fe3c9a",
   "display_name": "Python 3.7.5 64-bit ('base': conda)"
  }
 },
 "nbformat": 4,
 "nbformat_minor": 2
}