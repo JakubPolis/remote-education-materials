{
 "cells": [
  {
   "cell_type": "markdown",
   "metadata": {},
   "source": [
    "<style>\n",
    "  p {\n",
    "    font-size: 30px;\n",
    "  }\n",
    "\n",
    "  p:hover {\n",
    "    color: hsl(180, 100%, 60%);\n",
    "  }\n",
    "\n",
    "  h1 {\n",
    "    font-size: 60px;\n",
    "    color: hsl(210, 100%, 50%);\n",
    "    background-color: hsl(0, 0%, 20%);\n",
    "    padding: 10px;\n",
    "  }\n",
    "\n",
    "  h2 {\n",
    "    font-size: 50px;\n",
    "    color: hsl(270, 100%, 50%);\n",
    "    background-color: hsl(0, 0%, 20%);\n",
    "    padding: 10px;\n",
    "  }\n",
    "\n",
    "  h3 {\n",
    "    font-size: 40px;\n",
    "    color: hsl(60, 100%, 50%);\n",
    "    background-color: hsl(0, 0%, 20%);\n",
    "    padding: 10px;\n",
    "  }\n",
    "</style>\n",
    "\n",
    "\n",
    "# Konsultacje\n",
    "## RMT ZiIP rok: 1, stopień: 1\n",
    "### 25.05.2020"
   ]
  },
  {
   "cell_type": "markdown",
   "metadata": {},
   "source": [
    "\n",
    "\n",
    "\n",
    "\n",
    "\n",
    "\n",
    "\n",
    "\n",
    "\n",
    "\n",
    "\n",
    "\n",
    "\n",
    "\n",
    "\n",
    "\n",
    "\n",
    "\n",
    "\n",
    "\n",
    "\n",
    "\n",
    "\n",
    "\n",
    "\n",
    "\n",
    "\n"
   ]
  },
  {
   "cell_type": "code",
   "execution_count": 2,
   "metadata": {},
   "outputs": [
    {
     "output_type": "stream",
     "name": "stdout",
     "text": "[[ 2.33333333 -6.          0.33333333]\n [-0.66666667  3.         -0.66666667]\n [-0.66666667  1.          0.33333333]]\n"
    }
   ],
   "source": [
    "import numpy as np\n",
    "\n",
    "print(np.linalg.inv([\n",
    "    [5, 7, 9],\n",
    "    [2, 3, 4],\n",
    "    [4, 5, 9]\n",
    "]))"
   ]
  },
  {
   "cell_type": "code",
   "execution_count": null,
   "metadata": {},
   "outputs": [],
   "source": []
  }
 ],
 "metadata": {
  "language_info": {
   "name": "python",
   "codemirror_mode": {
    "name": "ipython",
    "version": 3
   },
   "version": "3.7.5-final"
  },
  "orig_nbformat": 2,
  "file_extension": ".py",
  "mimetype": "text/x-python",
  "name": "python",
  "npconvert_exporter": "python",
  "pygments_lexer": "ipython3",
  "version": 3,
  "kernelspec": {
   "name": "python37564bitbaseconda642d0f92d97b4822afed344c78fe3c9a",
   "display_name": "Python 3.7.5 64-bit ('base': conda)"
  }
 },
 "nbformat": 4,
 "nbformat_minor": 2
}